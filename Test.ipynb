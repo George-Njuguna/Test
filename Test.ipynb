{
 "cells": [
  {
   "cell_type": "code",
   "execution_count": 1,
   "metadata": {},
   "outputs": [
    {
     "name": "stdout",
     "output_type": "stream",
     "text": [
      "0\n",
      "1\n",
      "2\n",
      "3\n",
      "4\n"
     ]
    }
   ],
   "source": [
    "for i in range(5):\n",
    "    print (i)"
   ]
  },
  {
   "cell_type": "code",
   "execution_count": null,
   "metadata": {},
   "outputs": [
    {
     "name": "stdout",
     "output_type": "stream",
     "text": [
      "G\n",
      "E\n",
      "O\n",
      "R\n",
      "G\n",
      "E\n",
      " \n",
      "N\n",
      "J\n",
      "U\n",
      "G\n",
      "U\n",
      "N\n",
      "A\n",
      " \n",
      "W\n",
      "A\n",
      "N\n",
      "J\n",
      "I\n",
      "R\n",
      "U\n",
      " \n",
      "A\n",
      "N\n",
      "D\n",
      " \n",
      "I\n",
      " \n",
      "L\n",
      "O\n",
      "V\n",
      "E\n",
      " \n",
      "P\n",
      "Y\n",
      "T\n",
      "H\n",
      "O\n",
      "N\n",
      " \n"
     ]
    }
   ],
   "source": [
    "for j in 'GEORGE NJUGUNA WANJIRU AND I LOVE PYTHON ':\n",
    "    print(j)"
   ]
  },
  {
   "cell_type": "code",
   "execution_count": 5,
   "metadata": {},
   "outputs": [
    {
     "name": "stdout",
     "output_type": "stream",
     "text": [
      "T\n",
      "H\n",
      "I\n",
      "S\n",
      " \n",
      "I\n",
      "S\n",
      " \n",
      "M\n",
      "E\n",
      " \n",
      "T\n",
      "E\n",
      "S\n",
      "T\n",
      "I\n",
      "N\n",
      "G\n",
      " \n",
      "O\n",
      "U\n",
      "T\n",
      " \n",
      "G\n",
      "I\n",
      "T\n",
      " \n",
      "P\n",
      "U\n",
      "S\n",
      "H\n",
      " \n",
      "A\n",
      "N\n",
      "D\n",
      " \n",
      "P\n",
      "U\n",
      "L\n",
      "L\n",
      " \n",
      "W\n",
      "I\n",
      "T\n",
      "H\n",
      " \n",
      "G\n",
      "I\n",
      "T\n",
      " \n",
      "A\n",
      "N\n",
      "D\n",
      " \n",
      "G\n",
      "I\n",
      "T\n",
      "H\n",
      "U\n",
      "B\n"
     ]
    }
   ],
   "source": [
    "for j in 'THIS IS ME TESTING OUT GIT PUSH AND PULL WITH GIT AND GITHUB':\n",
    "    print(j)"
   ]
  }
 ],
 "metadata": {
  "kernelspec": {
   "display_name": "Python 3",
   "language": "python",
   "name": "python3"
  },
  "language_info": {
   "codemirror_mode": {
    "name": "ipython",
    "version": 3
   },
   "file_extension": ".py",
   "mimetype": "text/x-python",
   "name": "python",
   "nbconvert_exporter": "python",
   "pygments_lexer": "ipython3",
   "version": "3.12.10"
  }
 },
 "nbformat": 4,
 "nbformat_minor": 2
}
